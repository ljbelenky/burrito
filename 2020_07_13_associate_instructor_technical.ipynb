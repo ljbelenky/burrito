{
 "cells": [
  {
   "cell_type": "markdown",
   "metadata": {
    "id": "_Gvm1BZXjuBx"
   },
   "source": [
    "Lambda School Data Science\n",
    "## Land Belenky\n",
    "ljbelenky@gmail.com\n",
    "\n",
    "---"
   ]
  },
  {
   "cell_type": "code",
   "execution_count": 1,
   "metadata": {},
   "outputs": [],
   "source": [
    "import numpy as np\n",
    "import pandas as pd\n",
    "import matplotlib.pyplot as plt\n",
    "from sklearn.preprocessing import OneHotEncoder as OHE\n",
    "from sklearn.preprocessing import MinMaxScaler as MMS\n",
    "from sklearn.pipeline import Pipeline\n",
    "from sklearn.naive_bayes import MultinomialNB as MNB\n",
    "from sklearn.linear_model import LogisticRegression as LR\n",
    "from sklearn.base import TransformerMixin as TMX\n",
    "from sklearn.model_selection import GridSearchCV\n",
    "from sklearn.feature_extraction.text import CountVectorizer as CVec\n",
    "\n"
   ]
  },
  {
   "cell_type": "markdown",
   "metadata": {
    "id": "7IXUfiQ2UKj6"
   },
   "source": [
    "# Logistic Regression\n",
    "\n",
    "\n",
    "## Assignment 🌯\n",
    "\n",
    "Using a [**dataset of 400+ burrito reviews**](https://srcole.github.io/100burritos/), build a model that predicts whether a burrito is rated `'Great'`?\n",
    "\n",
    "## What We Want\n",
    "\n",
    "*Associate Instructor* is a teaching position where you will work closely students — delivering curriculum, and leading question and answer sessions. The purpose of this assignment is to give us an idea of how you approach data science problems and whether you can explain that approach to someone who does not yet have your level of expertise. Given this, we are less interested you building a \"perfect\" model and more focused on how you use this assignment to teach important concepts to a data science student.\n",
    "\n",
    "## What You Need to Do\n",
    "\n",
    "- [ ] Make a copy of this notebook to work on - you can download if you have a local Jupyter setup, or click `File > Save a copy in Drive` to copy and work on with Google Colab\n",
    "- [ ] Import the burrito `csv` file into a `DataFrame`. Your target will be the `'Great'` column.\n",
    "- [ ] Conduct exploratory data analysis (EDA) to determine how you should clean the data for your pipeline.\n",
    "- [ ] Clean your data. (Note: You are not required to use all columns in your model, but justify your decisions based on your EDA.)\n",
    "- [ ] Do train/validate/test split. Train on reviews from 2016 & earlier. Validate on 2017. Test on 2018 & later.\n",
    "- [ ] Determine what the baseline accuracy is for a naïve classification model.\n",
    "- [ ] Create a `scikit-learn` pipeline with the following components:\n",
    "  - A one hot encoder for categorical features.\n",
    "  - A scaler.\n",
    "  - A logistic regressor.\n",
    "- [ ] Train your model using the training data.\n",
    "- [ ] Create a visualization showing your model's coefficients.\n",
    "- [ ] Get your model's validation accuracy (multiple times if you try multiple iterations).\n",
    "- [ ] Get your model's test accuracy (one time, at the end).\n",
    "\n",
    "---"
   ]
  },
  {
   "cell_type": "markdown",
   "metadata": {
    "id": "UhHu6AF7ML3p"
   },
   "source": [
    "### Import the burrito `csv` file"
   ]
  },
  {
   "cell_type": "code",
   "execution_count": 2,
   "metadata": {
    "id": "stdgqGAYjuB3"
   },
   "outputs": [
    {
     "data": {
      "text/html": [
       "<div>\n",
       "<style scoped>\n",
       "    .dataframe tbody tr th:only-of-type {\n",
       "        vertical-align: middle;\n",
       "    }\n",
       "\n",
       "    .dataframe tbody tr th {\n",
       "        vertical-align: top;\n",
       "    }\n",
       "\n",
       "    .dataframe thead th {\n",
       "        text-align: right;\n",
       "    }\n",
       "</style>\n",
       "<table border=\"1\" class=\"dataframe\">\n",
       "  <thead>\n",
       "    <tr style=\"text-align: right;\">\n",
       "      <th></th>\n",
       "      <th>Location</th>\n",
       "      <th>Burrito</th>\n",
       "      <th>Date</th>\n",
       "      <th>Neighborhood</th>\n",
       "      <th>Address</th>\n",
       "      <th>URL</th>\n",
       "      <th>Yelp</th>\n",
       "      <th>Google</th>\n",
       "      <th>Chips</th>\n",
       "      <th>Cost</th>\n",
       "      <th>...</th>\n",
       "      <th>Lobster</th>\n",
       "      <th>Queso</th>\n",
       "      <th>Egg</th>\n",
       "      <th>Mushroom</th>\n",
       "      <th>Bacon</th>\n",
       "      <th>Sushi</th>\n",
       "      <th>Avocado</th>\n",
       "      <th>Corn</th>\n",
       "      <th>Zucchini</th>\n",
       "      <th>Great</th>\n",
       "    </tr>\n",
       "  </thead>\n",
       "  <tbody>\n",
       "    <tr>\n",
       "      <th>0</th>\n",
       "      <td>Donato's taco shop</td>\n",
       "      <td>California</td>\n",
       "      <td>1/18/2016</td>\n",
       "      <td>Miramar</td>\n",
       "      <td>6780 Miramar Rd</td>\n",
       "      <td>http://donatostacoshop.net/</td>\n",
       "      <td>3.5</td>\n",
       "      <td>4.2</td>\n",
       "      <td>NaN</td>\n",
       "      <td>6.49</td>\n",
       "      <td>...</td>\n",
       "      <td>NaN</td>\n",
       "      <td>NaN</td>\n",
       "      <td>NaN</td>\n",
       "      <td>NaN</td>\n",
       "      <td>NaN</td>\n",
       "      <td>NaN</td>\n",
       "      <td>NaN</td>\n",
       "      <td>NaN</td>\n",
       "      <td>NaN</td>\n",
       "      <td>False</td>\n",
       "    </tr>\n",
       "    <tr>\n",
       "      <th>1</th>\n",
       "      <td>Oscar's Mexican food</td>\n",
       "      <td>California</td>\n",
       "      <td>1/24/2016</td>\n",
       "      <td>San Marcos</td>\n",
       "      <td>225 S Rancho Santa Fe Rd</td>\n",
       "      <td>http://www.yelp.com/biz/oscars-mexican-food-sa...</td>\n",
       "      <td>3.5</td>\n",
       "      <td>3.3</td>\n",
       "      <td>NaN</td>\n",
       "      <td>5.45</td>\n",
       "      <td>...</td>\n",
       "      <td>NaN</td>\n",
       "      <td>NaN</td>\n",
       "      <td>NaN</td>\n",
       "      <td>NaN</td>\n",
       "      <td>NaN</td>\n",
       "      <td>NaN</td>\n",
       "      <td>NaN</td>\n",
       "      <td>NaN</td>\n",
       "      <td>NaN</td>\n",
       "      <td>False</td>\n",
       "    </tr>\n",
       "    <tr>\n",
       "      <th>2</th>\n",
       "      <td>Oscar's Mexican food</td>\n",
       "      <td>Carnitas</td>\n",
       "      <td>1/24/2016</td>\n",
       "      <td>NaN</td>\n",
       "      <td>NaN</td>\n",
       "      <td>NaN</td>\n",
       "      <td>NaN</td>\n",
       "      <td>NaN</td>\n",
       "      <td>NaN</td>\n",
       "      <td>4.85</td>\n",
       "      <td>...</td>\n",
       "      <td>NaN</td>\n",
       "      <td>NaN</td>\n",
       "      <td>NaN</td>\n",
       "      <td>NaN</td>\n",
       "      <td>NaN</td>\n",
       "      <td>NaN</td>\n",
       "      <td>NaN</td>\n",
       "      <td>NaN</td>\n",
       "      <td>NaN</td>\n",
       "      <td>False</td>\n",
       "    </tr>\n",
       "    <tr>\n",
       "      <th>3</th>\n",
       "      <td>Oscar's Mexican food</td>\n",
       "      <td>Carne asada</td>\n",
       "      <td>1/24/2016</td>\n",
       "      <td>NaN</td>\n",
       "      <td>NaN</td>\n",
       "      <td>NaN</td>\n",
       "      <td>NaN</td>\n",
       "      <td>NaN</td>\n",
       "      <td>NaN</td>\n",
       "      <td>5.25</td>\n",
       "      <td>...</td>\n",
       "      <td>NaN</td>\n",
       "      <td>NaN</td>\n",
       "      <td>NaN</td>\n",
       "      <td>NaN</td>\n",
       "      <td>NaN</td>\n",
       "      <td>NaN</td>\n",
       "      <td>NaN</td>\n",
       "      <td>NaN</td>\n",
       "      <td>NaN</td>\n",
       "      <td>False</td>\n",
       "    </tr>\n",
       "    <tr>\n",
       "      <th>4</th>\n",
       "      <td>Pollos Maria</td>\n",
       "      <td>California</td>\n",
       "      <td>1/27/2016</td>\n",
       "      <td>Carlsbad</td>\n",
       "      <td>3055 Harding St</td>\n",
       "      <td>http://pollosmaria.com/</td>\n",
       "      <td>4.0</td>\n",
       "      <td>3.8</td>\n",
       "      <td>x</td>\n",
       "      <td>6.59</td>\n",
       "      <td>...</td>\n",
       "      <td>NaN</td>\n",
       "      <td>NaN</td>\n",
       "      <td>NaN</td>\n",
       "      <td>NaN</td>\n",
       "      <td>NaN</td>\n",
       "      <td>NaN</td>\n",
       "      <td>NaN</td>\n",
       "      <td>NaN</td>\n",
       "      <td>NaN</td>\n",
       "      <td>True</td>\n",
       "    </tr>\n",
       "  </tbody>\n",
       "</table>\n",
       "<p>5 rows × 65 columns</p>\n",
       "</div>"
      ],
      "text/plain": [
       "               Location      Burrito       Date Neighborhood  \\\n",
       "0    Donato's taco shop  California   1/18/2016      Miramar   \n",
       "1  Oscar's Mexican food  California   1/24/2016   San Marcos   \n",
       "2  Oscar's Mexican food     Carnitas  1/24/2016          NaN   \n",
       "3  Oscar's Mexican food  Carne asada  1/24/2016          NaN   \n",
       "4          Pollos Maria   California  1/27/2016     Carlsbad   \n",
       "\n",
       "                    Address  \\\n",
       "0           6780 Miramar Rd   \n",
       "1  225 S Rancho Santa Fe Rd   \n",
       "2                       NaN   \n",
       "3                       NaN   \n",
       "4           3055 Harding St   \n",
       "\n",
       "                                                 URL  Yelp  Google Chips  \\\n",
       "0                        http://donatostacoshop.net/   3.5     4.2   NaN   \n",
       "1  http://www.yelp.com/biz/oscars-mexican-food-sa...   3.5     3.3   NaN   \n",
       "2                                                NaN   NaN     NaN   NaN   \n",
       "3                                                NaN   NaN     NaN   NaN   \n",
       "4                            http://pollosmaria.com/   4.0     3.8     x   \n",
       "\n",
       "   Cost  ...  Lobster  Queso  Egg  Mushroom  Bacon  Sushi  Avocado  Corn  \\\n",
       "0  6.49  ...      NaN    NaN  NaN       NaN    NaN    NaN      NaN   NaN   \n",
       "1  5.45  ...      NaN    NaN  NaN       NaN    NaN    NaN      NaN   NaN   \n",
       "2  4.85  ...      NaN    NaN  NaN       NaN    NaN    NaN      NaN   NaN   \n",
       "3  5.25  ...      NaN    NaN  NaN       NaN    NaN    NaN      NaN   NaN   \n",
       "4  6.59  ...      NaN    NaN  NaN       NaN    NaN    NaN      NaN   NaN   \n",
       "\n",
       "   Zucchini  Great  \n",
       "0       NaN  False  \n",
       "1       NaN  False  \n",
       "2       NaN  False  \n",
       "3       NaN  False  \n",
       "4       NaN   True  \n",
       "\n",
       "[5 rows x 65 columns]"
      ]
     },
     "execution_count": 2,
     "metadata": {},
     "output_type": "execute_result"
    }
   ],
   "source": [
    "# Import Data\n",
    "df = pd.read_csv('https://drive.google.com/uc?export=download&id=1cctPq1sYeD6Y6mGg5Lpl-GLDJBwtdihg')\n",
    "df.head()"
   ]
  },
  {
   "cell_type": "markdown",
   "metadata": {
    "id": "4km-WYWpMoYw"
   },
   "source": [
    "### Conduct exploratory data analysis (EDA)\n",
    "\n",
    "First, look at the `shape`, `columns`, `info` and `describe` to get a feel of the data"
   ]
  },
  {
   "cell_type": "code",
   "execution_count": 3,
   "metadata": {
    "id": "gLoRSPwFOrg1"
   },
   "outputs": [
    {
     "data": {
      "text/plain": [
       "(421, 65)"
      ]
     },
     "execution_count": 3,
     "metadata": {},
     "output_type": "execute_result"
    }
   ],
   "source": [
    "df.shape"
   ]
  },
  {
   "cell_type": "code",
   "execution_count": 4,
   "metadata": {},
   "outputs": [
    {
     "name": "stdout",
     "output_type": "stream",
     "text": [
      "<class 'pandas.core.frame.DataFrame'>\n",
      "RangeIndex: 421 entries, 0 to 420\n",
      "Data columns (total 65 columns):\n",
      " #   Column          Non-Null Count  Dtype  \n",
      "---  ------          --------------  -----  \n",
      " 0   Location        421 non-null    object \n",
      " 1   Burrito         421 non-null    object \n",
      " 2   Date            421 non-null    object \n",
      " 3   Neighborhood    92 non-null     object \n",
      " 4   Address         88 non-null     object \n",
      " 5   URL             87 non-null     object \n",
      " 6   Yelp            87 non-null     float64\n",
      " 7   Google          87 non-null     float64\n",
      " 8   Chips           26 non-null     object \n",
      " 9   Cost            414 non-null    float64\n",
      " 10  Hunger          418 non-null    float64\n",
      " 11  Mass (g)        22 non-null     float64\n",
      " 12  Density (g/mL)  22 non-null     float64\n",
      " 13  Length          283 non-null    float64\n",
      " 14  Circum          281 non-null    float64\n",
      " 15  Volume          281 non-null    float64\n",
      " 16  Tortilla        421 non-null    float64\n",
      " 17  Temp            401 non-null    float64\n",
      " 18  Meat            407 non-null    float64\n",
      " 19  Fillings        418 non-null    float64\n",
      " 20  Meat:filling    412 non-null    float64\n",
      " 21  Uniformity      419 non-null    float64\n",
      " 22  Salsa           396 non-null    float64\n",
      " 23  Synergy         419 non-null    float64\n",
      " 24  Wrap            418 non-null    float64\n",
      " 25  Reviewer        420 non-null    object \n",
      " 26  Notes           146 non-null    object \n",
      " 27  Unreliable      33 non-null     object \n",
      " 28  NonSD           7 non-null      object \n",
      " 29  Beef            179 non-null    object \n",
      " 30  Pico            158 non-null    object \n",
      " 31  Guac            154 non-null    object \n",
      " 32  Cheese          159 non-null    object \n",
      " 33  Fries           127 non-null    object \n",
      " 34  Sour cream      92 non-null     object \n",
      " 35  Pork            51 non-null     object \n",
      " 36  Chicken         21 non-null     object \n",
      " 37  Shrimp          21 non-null     object \n",
      " 38  Fish            6 non-null      object \n",
      " 39  Rice            36 non-null     object \n",
      " 40  Beans           35 non-null     object \n",
      " 41  Lettuce         11 non-null     object \n",
      " 42  Tomato          7 non-null      object \n",
      " 43  Bell peper      7 non-null      object \n",
      " 44  Carrots         1 non-null      object \n",
      " 45  Cabbage         8 non-null      object \n",
      " 46  Sauce           38 non-null     object \n",
      " 47  Salsa.1         7 non-null      object \n",
      " 48  Cilantro        15 non-null     object \n",
      " 49  Onion           17 non-null     object \n",
      " 50  Taquito         4 non-null      object \n",
      " 51  Pineapple       7 non-null      object \n",
      " 52  Ham             2 non-null      object \n",
      " 53  Chile relleno   4 non-null      object \n",
      " 54  Nopales         4 non-null      object \n",
      " 55  Lobster         1 non-null      object \n",
      " 56  Queso           0 non-null      float64\n",
      " 57  Egg             5 non-null      object \n",
      " 58  Mushroom        3 non-null      object \n",
      " 59  Bacon           3 non-null      object \n",
      " 60  Sushi           2 non-null      object \n",
      " 61  Avocado         13 non-null     object \n",
      " 62  Corn            3 non-null      object \n",
      " 63  Zucchini        1 non-null      object \n",
      " 64  Great           421 non-null    bool   \n",
      "dtypes: bool(1), float64(19), object(45)\n",
      "memory usage: 211.0+ KB\n"
     ]
    }
   ],
   "source": [
    "df.info()"
   ]
  },
  {
   "cell_type": "markdown",
   "metadata": {},
   "source": [
    "## Notes:  \n",
    " \n",
    "* `Queso` has no non-null values: This column can be dropped\n",
    "* Density and Mass have very few non-null values, and none for some of the year groupings\n",
    "* `Date` is stored as a string: will need to convert to datetime"
   ]
  },
  {
   "cell_type": "code",
   "execution_count": 5,
   "metadata": {},
   "outputs": [
    {
     "data": {
      "text/html": [
       "<div>\n",
       "<style scoped>\n",
       "    .dataframe tbody tr th:only-of-type {\n",
       "        vertical-align: middle;\n",
       "    }\n",
       "\n",
       "    .dataframe tbody tr th {\n",
       "        vertical-align: top;\n",
       "    }\n",
       "\n",
       "    .dataframe thead th {\n",
       "        text-align: right;\n",
       "    }\n",
       "</style>\n",
       "<table border=\"1\" class=\"dataframe\">\n",
       "  <thead>\n",
       "    <tr style=\"text-align: right;\">\n",
       "      <th></th>\n",
       "      <th>Yelp</th>\n",
       "      <th>Google</th>\n",
       "      <th>Cost</th>\n",
       "      <th>Hunger</th>\n",
       "      <th>Mass (g)</th>\n",
       "      <th>Density (g/mL)</th>\n",
       "      <th>Length</th>\n",
       "      <th>Circum</th>\n",
       "      <th>Volume</th>\n",
       "      <th>Tortilla</th>\n",
       "      <th>Temp</th>\n",
       "      <th>Meat</th>\n",
       "      <th>Fillings</th>\n",
       "      <th>Meat:filling</th>\n",
       "      <th>Uniformity</th>\n",
       "      <th>Salsa</th>\n",
       "      <th>Synergy</th>\n",
       "      <th>Wrap</th>\n",
       "      <th>Queso</th>\n",
       "    </tr>\n",
       "  </thead>\n",
       "  <tbody>\n",
       "    <tr>\n",
       "      <th>count</th>\n",
       "      <td>87.000000</td>\n",
       "      <td>87.000000</td>\n",
       "      <td>414.000000</td>\n",
       "      <td>418.000000</td>\n",
       "      <td>22.000000</td>\n",
       "      <td>22.000000</td>\n",
       "      <td>283.000000</td>\n",
       "      <td>281.000000</td>\n",
       "      <td>281.000000</td>\n",
       "      <td>421.000000</td>\n",
       "      <td>401.000000</td>\n",
       "      <td>407.000000</td>\n",
       "      <td>418.000000</td>\n",
       "      <td>412.000000</td>\n",
       "      <td>419.000000</td>\n",
       "      <td>396.000000</td>\n",
       "      <td>419.000000</td>\n",
       "      <td>418.000000</td>\n",
       "      <td>0.0</td>\n",
       "    </tr>\n",
       "    <tr>\n",
       "      <th>mean</th>\n",
       "      <td>3.887356</td>\n",
       "      <td>4.167816</td>\n",
       "      <td>7.067343</td>\n",
       "      <td>3.495335</td>\n",
       "      <td>546.181818</td>\n",
       "      <td>0.675277</td>\n",
       "      <td>20.038233</td>\n",
       "      <td>22.135765</td>\n",
       "      <td>0.786477</td>\n",
       "      <td>3.519477</td>\n",
       "      <td>3.783042</td>\n",
       "      <td>3.620393</td>\n",
       "      <td>3.539833</td>\n",
       "      <td>3.586481</td>\n",
       "      <td>3.428998</td>\n",
       "      <td>3.371970</td>\n",
       "      <td>3.586993</td>\n",
       "      <td>3.979904</td>\n",
       "      <td>NaN</td>\n",
       "    </tr>\n",
       "    <tr>\n",
       "      <th>std</th>\n",
       "      <td>0.475396</td>\n",
       "      <td>0.373698</td>\n",
       "      <td>1.506742</td>\n",
       "      <td>0.812069</td>\n",
       "      <td>144.445619</td>\n",
       "      <td>0.080468</td>\n",
       "      <td>2.083518</td>\n",
       "      <td>1.779408</td>\n",
       "      <td>0.152531</td>\n",
       "      <td>0.794438</td>\n",
       "      <td>0.980338</td>\n",
       "      <td>0.829254</td>\n",
       "      <td>0.799549</td>\n",
       "      <td>0.997057</td>\n",
       "      <td>1.068794</td>\n",
       "      <td>0.924037</td>\n",
       "      <td>0.886807</td>\n",
       "      <td>1.118185</td>\n",
       "      <td>NaN</td>\n",
       "    </tr>\n",
       "    <tr>\n",
       "      <th>min</th>\n",
       "      <td>2.500000</td>\n",
       "      <td>2.900000</td>\n",
       "      <td>2.990000</td>\n",
       "      <td>0.500000</td>\n",
       "      <td>350.000000</td>\n",
       "      <td>0.560000</td>\n",
       "      <td>15.000000</td>\n",
       "      <td>17.000000</td>\n",
       "      <td>0.400000</td>\n",
       "      <td>1.000000</td>\n",
       "      <td>1.000000</td>\n",
       "      <td>1.000000</td>\n",
       "      <td>1.000000</td>\n",
       "      <td>0.500000</td>\n",
       "      <td>0.000000</td>\n",
       "      <td>0.000000</td>\n",
       "      <td>1.000000</td>\n",
       "      <td>0.000000</td>\n",
       "      <td>NaN</td>\n",
       "    </tr>\n",
       "    <tr>\n",
       "      <th>25%</th>\n",
       "      <td>3.500000</td>\n",
       "      <td>4.000000</td>\n",
       "      <td>6.250000</td>\n",
       "      <td>3.000000</td>\n",
       "      <td>450.000000</td>\n",
       "      <td>0.619485</td>\n",
       "      <td>18.500000</td>\n",
       "      <td>21.000000</td>\n",
       "      <td>0.680000</td>\n",
       "      <td>3.000000</td>\n",
       "      <td>3.000000</td>\n",
       "      <td>3.000000</td>\n",
       "      <td>3.000000</td>\n",
       "      <td>3.000000</td>\n",
       "      <td>2.600000</td>\n",
       "      <td>3.000000</td>\n",
       "      <td>3.000000</td>\n",
       "      <td>3.500000</td>\n",
       "      <td>NaN</td>\n",
       "    </tr>\n",
       "    <tr>\n",
       "      <th>50%</th>\n",
       "      <td>4.000000</td>\n",
       "      <td>4.200000</td>\n",
       "      <td>6.990000</td>\n",
       "      <td>3.500000</td>\n",
       "      <td>540.000000</td>\n",
       "      <td>0.658099</td>\n",
       "      <td>20.000000</td>\n",
       "      <td>22.000000</td>\n",
       "      <td>0.770000</td>\n",
       "      <td>3.500000</td>\n",
       "      <td>4.000000</td>\n",
       "      <td>3.800000</td>\n",
       "      <td>3.500000</td>\n",
       "      <td>4.000000</td>\n",
       "      <td>3.500000</td>\n",
       "      <td>3.500000</td>\n",
       "      <td>3.800000</td>\n",
       "      <td>4.000000</td>\n",
       "      <td>NaN</td>\n",
       "    </tr>\n",
       "    <tr>\n",
       "      <th>75%</th>\n",
       "      <td>4.000000</td>\n",
       "      <td>4.400000</td>\n",
       "      <td>7.880000</td>\n",
       "      <td>4.000000</td>\n",
       "      <td>595.000000</td>\n",
       "      <td>0.721726</td>\n",
       "      <td>21.500000</td>\n",
       "      <td>23.000000</td>\n",
       "      <td>0.880000</td>\n",
       "      <td>4.000000</td>\n",
       "      <td>4.500000</td>\n",
       "      <td>4.000000</td>\n",
       "      <td>4.000000</td>\n",
       "      <td>4.000000</td>\n",
       "      <td>4.000000</td>\n",
       "      <td>4.000000</td>\n",
       "      <td>4.000000</td>\n",
       "      <td>5.000000</td>\n",
       "      <td>NaN</td>\n",
       "    </tr>\n",
       "    <tr>\n",
       "      <th>max</th>\n",
       "      <td>4.500000</td>\n",
       "      <td>5.000000</td>\n",
       "      <td>25.000000</td>\n",
       "      <td>5.000000</td>\n",
       "      <td>925.000000</td>\n",
       "      <td>0.865672</td>\n",
       "      <td>26.000000</td>\n",
       "      <td>29.000000</td>\n",
       "      <td>1.540000</td>\n",
       "      <td>5.000000</td>\n",
       "      <td>5.000000</td>\n",
       "      <td>5.000000</td>\n",
       "      <td>5.000000</td>\n",
       "      <td>5.000000</td>\n",
       "      <td>5.000000</td>\n",
       "      <td>5.000000</td>\n",
       "      <td>5.000000</td>\n",
       "      <td>5.000000</td>\n",
       "      <td>NaN</td>\n",
       "    </tr>\n",
       "  </tbody>\n",
       "</table>\n",
       "</div>"
      ],
      "text/plain": [
       "            Yelp     Google        Cost      Hunger    Mass (g)  \\\n",
       "count  87.000000  87.000000  414.000000  418.000000   22.000000   \n",
       "mean    3.887356   4.167816    7.067343    3.495335  546.181818   \n",
       "std     0.475396   0.373698    1.506742    0.812069  144.445619   \n",
       "min     2.500000   2.900000    2.990000    0.500000  350.000000   \n",
       "25%     3.500000   4.000000    6.250000    3.000000  450.000000   \n",
       "50%     4.000000   4.200000    6.990000    3.500000  540.000000   \n",
       "75%     4.000000   4.400000    7.880000    4.000000  595.000000   \n",
       "max     4.500000   5.000000   25.000000    5.000000  925.000000   \n",
       "\n",
       "       Density (g/mL)      Length      Circum      Volume    Tortilla  \\\n",
       "count       22.000000  283.000000  281.000000  281.000000  421.000000   \n",
       "mean         0.675277   20.038233   22.135765    0.786477    3.519477   \n",
       "std          0.080468    2.083518    1.779408    0.152531    0.794438   \n",
       "min          0.560000   15.000000   17.000000    0.400000    1.000000   \n",
       "25%          0.619485   18.500000   21.000000    0.680000    3.000000   \n",
       "50%          0.658099   20.000000   22.000000    0.770000    3.500000   \n",
       "75%          0.721726   21.500000   23.000000    0.880000    4.000000   \n",
       "max          0.865672   26.000000   29.000000    1.540000    5.000000   \n",
       "\n",
       "             Temp        Meat    Fillings  Meat:filling  Uniformity  \\\n",
       "count  401.000000  407.000000  418.000000    412.000000  419.000000   \n",
       "mean     3.783042    3.620393    3.539833      3.586481    3.428998   \n",
       "std      0.980338    0.829254    0.799549      0.997057    1.068794   \n",
       "min      1.000000    1.000000    1.000000      0.500000    0.000000   \n",
       "25%      3.000000    3.000000    3.000000      3.000000    2.600000   \n",
       "50%      4.000000    3.800000    3.500000      4.000000    3.500000   \n",
       "75%      4.500000    4.000000    4.000000      4.000000    4.000000   \n",
       "max      5.000000    5.000000    5.000000      5.000000    5.000000   \n",
       "\n",
       "            Salsa     Synergy        Wrap  Queso  \n",
       "count  396.000000  419.000000  418.000000    0.0  \n",
       "mean     3.371970    3.586993    3.979904    NaN  \n",
       "std      0.924037    0.886807    1.118185    NaN  \n",
       "min      0.000000    1.000000    0.000000    NaN  \n",
       "25%      3.000000    3.000000    3.500000    NaN  \n",
       "50%      3.500000    3.800000    4.000000    NaN  \n",
       "75%      4.000000    4.000000    5.000000    NaN  \n",
       "max      5.000000    5.000000    5.000000    NaN  "
      ]
     },
     "execution_count": 5,
     "metadata": {},
     "output_type": "execute_result"
    }
   ],
   "source": [
    "df.describe()"
   ]
  },
  {
   "cell_type": "markdown",
   "metadata": {},
   "source": [
    "## Get list of non-numeric columns"
   ]
  },
  {
   "cell_type": "code",
   "execution_count": 6,
   "metadata": {},
   "outputs": [
    {
     "data": {
      "text/plain": [
       "Location         108\n",
       "Burrito          132\n",
       "Date             169\n",
       "Neighborhood      41\n",
       "Address           87\n",
       "URL               86\n",
       "Chips              4\n",
       "Reviewer         106\n",
       "Notes            145\n",
       "Unreliable         1\n",
       "NonSD              2\n",
       "Beef               2\n",
       "Pico               2\n",
       "Guac               2\n",
       "Cheese             2\n",
       "Fries              2\n",
       "Sour cream         2\n",
       "Pork               2\n",
       "Chicken            2\n",
       "Shrimp             2\n",
       "Fish               2\n",
       "Rice               2\n",
       "Beans              2\n",
       "Lettuce            2\n",
       "Tomato             2\n",
       "Bell peper         2\n",
       "Carrots            1\n",
       "Cabbage            2\n",
       "Sauce              2\n",
       "Salsa.1            2\n",
       "Cilantro           2\n",
       "Onion              2\n",
       "Taquito            2\n",
       "Pineapple          2\n",
       "Ham                1\n",
       "Chile relleno      1\n",
       "Nopales            1\n",
       "Lobster            1\n",
       "Egg                1\n",
       "Mushroom           1\n",
       "Bacon              1\n",
       "Sushi              1\n",
       "Avocado            1\n",
       "Corn               2\n",
       "Zucchini           1\n",
       "dtype: int64"
      ]
     },
     "execution_count": 6,
     "metadata": {},
     "output_type": "execute_result"
    }
   ],
   "source": [
    "object_columns = [col for col in df.columns if df[col].dtype == 'object']\n",
    "df[object_columns].nunique()"
   ]
  },
  {
   "cell_type": "markdown",
   "metadata": {},
   "source": [
    "Identify columns that have few unique values; these can be one-hot-encoded. Columns with object type and large numbers of unique values are not suitable for one-hot-encoding."
   ]
  },
  {
   "cell_type": "markdown",
   "metadata": {},
   "source": [
    "Examine unique values in object columns:"
   ]
  },
  {
   "cell_type": "code",
   "execution_count": 7,
   "metadata": {},
   "outputs": [
    {
     "name": "stdout",
     "output_type": "stream",
     "text": [
      "Chips [nan 'x' 'X' 'Yes' 'No']\n",
      "Unreliable [nan 'x']\n",
      "NonSD [nan 'x' 'X']\n",
      "Beef ['x' nan 'X']\n",
      "Pico ['x' nan 'X']\n",
      "Guac ['x' nan 'X']\n",
      "Cheese ['x' nan 'X']\n",
      "Fries ['x' nan 'X']\n",
      "Sour cream [nan 'x' 'X']\n",
      "Pork [nan 'x' 'X']\n",
      "Chicken [nan 'x' 'X']\n",
      "Shrimp [nan 'x' 'X']\n",
      "Fish [nan 'x' 'X']\n",
      "Rice [nan 'x' 'X']\n",
      "Beans [nan 'x' 'X']\n",
      "Lettuce [nan 'x' 'X']\n",
      "Tomato [nan 'x' 'X']\n",
      "Bell peper [nan 'x' 'X']\n",
      "Carrots [nan 'x']\n",
      "Cabbage [nan 'x' 'X']\n",
      "Sauce [nan 'x' 'X']\n",
      "Salsa.1 [nan 'x' 'X']\n",
      "Cilantro [nan 'x' 'X']\n",
      "Onion [nan 'x' 'X']\n",
      "Taquito [nan 'x' 'X']\n",
      "Pineapple [nan 'x' 'X']\n",
      "Ham [nan 'x']\n",
      "Chile relleno [nan 'x']\n",
      "Nopales [nan 'x']\n",
      "Lobster [nan 'x']\n",
      "Egg [nan 'x']\n",
      "Mushroom [nan 'x']\n",
      "Bacon [nan 'x']\n",
      "Sushi [nan 'x']\n",
      "Avocado [nan 'x']\n",
      "Corn [nan 'x' 'X']\n",
      "Zucchini [nan 'x']\n"
     ]
    }
   ],
   "source": [
    "for c in object_columns:\n",
    "    if df[c].nunique() < 10:\n",
    "        print(c, df[c].unique())\n"
   ]
  },
  {
   "cell_type": "markdown",
   "metadata": {},
   "source": [
    "## Note that some of these use both `x` and `X`. Assume that these are inteded to be the same.\n",
    "Also, it is likely that `x`, `X` and `Yes` mean the same in the chips column."
   ]
  },
  {
   "cell_type": "markdown",
   "metadata": {},
   "source": [
    "## Examine words in `Notes` feature\n",
    "\n",
    "The `Notes` column is pretty short and succinct, so advanced NLP probably won't be helpful. We can maybe get a little bit of information by looking at a very small subset of the most commonly used words."
   ]
  },
  {
   "cell_type": "code",
   "execution_count": 8,
   "metadata": {},
   "outputs": [
    {
     "data": {
      "text/plain": [
       "['best',\n",
       " 'better',\n",
       " 'burrito',\n",
       " 'cheese',\n",
       " 'chips',\n",
       " 'fries',\n",
       " 'good',\n",
       " 'great',\n",
       " 'guac',\n",
       " 'like',\n",
       " 'little',\n",
       " 'meat',\n",
       " 'really',\n",
       " 'salsa',\n",
       " 'sauce',\n",
       " 'shrimp',\n",
       " 'small',\n",
       " 'sour',\n",
       " 'time',\n",
       " 'tortilla']"
      ]
     },
     "execution_count": 8,
     "metadata": {},
     "output_type": "execute_result"
    }
   ],
   "source": [
    "CVec(max_features = 20, stop_words = 'english').fit(df['Notes'].fillna('')).get_feature_names()"
   ]
  },
  {
   "cell_type": "markdown",
   "metadata": {},
   "source": [
    "## Observe Correlation matrix"
   ]
  },
  {
   "cell_type": "code",
   "execution_count": 9,
   "metadata": {},
   "outputs": [
    {
     "data": {
      "image/png": "[encoded data removed]",
      "text/plain": [
       "<Figure size 288x288 with 1 Axes>"
      ]
     },
     "metadata": {
      "needs_background": "light"
     },
     "output_type": "display_data"
    }
   ],
   "source": [
    "plt.matshow(df.corr());"
   ]
  },
  {
   "cell_type": "markdown",
   "metadata": {},
   "source": [
    "## Check the class imbalance:"
   ]
  },
  {
   "cell_type": "code",
   "execution_count": 10,
   "metadata": {},
   "outputs": [
    {
     "data": {
      "text/plain": [
       "array([False,  True])"
      ]
     },
     "execution_count": 10,
     "metadata": {},
     "output_type": "execute_result"
    }
   ],
   "source": [
    "df['Great'].unique()"
   ]
  },
  {
   "cell_type": "code",
   "execution_count": 11,
   "metadata": {},
   "outputs": [
    {
     "data": {
      "text/plain": [
       "0.4323040380047506"
      ]
     },
     "execution_count": 11,
     "metadata": {},
     "output_type": "execute_result"
    }
   ],
   "source": [
    "df['Great'].mean()"
   ]
  },
  {
   "cell_type": "markdown",
   "metadata": {},
   "source": [
    "43% - 57% is a fairly well-blanced dataset, so we will not need to take extra steps to address class imbalance."
   ]
  },
  {
   "cell_type": "markdown",
   "metadata": {
    "id": "nPo-X3PrMjch"
   },
   "source": [
    "### Clean data\n",
    "\n",
    "Data Cleaning steps:\n",
    "* Remove `Queso` `Date`, `Mass` and `Density`\n",
    "* Convert 'x', 'X' and 'Yes' to True, and 'No', 'NaN' to False in appropriate columns\n",
    "* Impute target from 'Burrito' and 'Neighborhood' columns\n",
    "* Find 20 most common words in `Notes`\n",
    "* Drop object columns with large number of unique values\n",
    "* Fill NaN values with column means\n",
    "\n",
    "I will make custom transforms for each of these steps and then put them in a pipeline\n",
    "\n",
    "Note: I think `Date` might be a useful feature in the model, as we could see if quality trends over time, however, do to our train/validation/test splitting on date, it can't be used as a feature in the model."
   ]
  },
  {
   "cell_type": "code",
   "execution_count": 12,
   "metadata": {
    "id": "l2d5QXhdO5a_"
   },
   "outputs": [],
   "source": [
    "class ColumnDropper(TMX):\n",
    "    '''Drop the unneeded columns'''\n",
    "    def __init__(self, columns):\n",
    "        self.columns = columns\n",
    "\n",
    "    def fit(self,X, y=None):\n",
    "        return self\n",
    "    \n",
    "    def transform(self, X):\n",
    "        return X.drop(self.columns, axis = 1)\n",
    "    \n",
    "    def __repr__(self):\n",
    "        return 'drop columns'"
   ]
  },
  {
   "cell_type": "code",
   "execution_count": 13,
   "metadata": {},
   "outputs": [],
   "source": [
    "class XConverter(TMX):\n",
    "    '''Find any object columns that have only x, X, Yes, No and NaN and convert to boolean'''\n",
    "    \n",
    "    def fit(self,X, y=None):        \n",
    "        self.columns = []\n",
    "        for c in X.columns:\n",
    "            if X[c].dtype =='object':\n",
    "                if len(set(X[c].str.lower().unique()) - set(['X',np.nan, 'x', 'yes','no']))==0:\n",
    "                    self.columns.append(c)\n",
    "        return self\n",
    "                       \n",
    "    def transform(self, X):\n",
    "        for col in self.columns:\n",
    "            X[col] = X[col].isin(['x','X','yes'])\n",
    "        return X          \n",
    "    \n",
    "    def __repr__(self):\n",
    "        return 'convert boolean responses'"
   ]
  },
  {
   "cell_type": "code",
   "execution_count": 14,
   "metadata": {},
   "outputs": [],
   "source": [
    "class SimpleImputer(TMX):\n",
    "    '''Impute categorical values to target values'''\n",
    "    def __init__(self, columns):\n",
    "        self.columns = columns\n",
    "    \n",
    "    def fit(self, X, y=None):\n",
    "        \n",
    "        self.imp = {}\n",
    "        for c in self.columns:\n",
    "            data = pd.concat([X[c], y], axis = 1)\n",
    "            self.imp[c] = data.groupby(c).mean()['Great']\n",
    "        return self\n",
    "    \n",
    "    def transform(self, X):\n",
    "        for c in self.columns:\n",
    "            \n",
    "            X[c] = X[[c]].join(self.imp[c], on=c)['Great']\n",
    "        return X\n",
    "    \n",
    "    def __repr__(self):\n",
    "        return 'Imputer'"
   ]
  },
  {
   "cell_type": "code",
   "execution_count": 15,
   "metadata": {},
   "outputs": [],
   "source": [
    "class NotesVectorizer(TMX):\n",
    "    \n",
    "    def fit(self, X, y=None):\n",
    "        X['Notes'] = X['Notes'].fillna('')\n",
    "        self.cvec = CVec(max_features = 20, stop_words = 'english')\n",
    "        self.cvec.fit(X['Notes'])        \n",
    "        return self\n",
    "    \n",
    "    def transform(self, X):\n",
    "        X['Notes'] = X.fillna('')\n",
    "        X[self.cvec.get_feature_names()] = self.cvec.transform(X['Notes']).todense()\n",
    "        return X\n",
    "    \n",
    "    def __repr__(self):\n",
    "        return 'notes vectorizer'"
   ]
  },
  {
   "cell_type": "code",
   "execution_count": 16,
   "metadata": {},
   "outputs": [],
   "source": [
    "class ManyValueDropper(TMX):\n",
    "    '''Drop any object columns that have too many values to one hot encode'''\n",
    "    def __init__(self, values):\n",
    "        self.values = values\n",
    "        \n",
    "    def fit(self, X, y=None):           \n",
    "        self.columns = []\n",
    "        for c in X.columns:\n",
    "            if X[c].dtype == 'object' and X[c].nunique() > self.values:\n",
    "                self.columns.append(c)\n",
    "                \n",
    "        return self\n",
    "    \n",
    "    def transform(self, X):            \n",
    "        return X.drop(self.columns, axis=1)\n",
    "    \n",
    "    def __repr__(self):\n",
    "        return 'drop messy columns'"
   ]
  },
  {
   "cell_type": "code",
   "execution_count": 17,
   "metadata": {},
   "outputs": [],
   "source": [
    "class NaNFiller(TMX):\n",
    "    \n",
    "    def fit(self, X, y=None):            \n",
    "        self.means = X.mean(axis = 0)\n",
    "        \n",
    "        return self\n",
    "    \n",
    "    def transform(self, X):            \n",
    "        return X.fillna(self.means)\n",
    "\n",
    "    def __repr__(self):\n",
    "        return 'fill NAs'"
   ]
  },
  {
   "cell_type": "code",
   "execution_count": 18,
   "metadata": {},
   "outputs": [],
   "source": [
    "pipeline = Pipeline([('drop',ColumnDropper(['Queso','Date','Mass (g)','Density (g/mL)'])),\n",
    "                     ('convert Xs', XConverter()),\n",
    "                     ('simple imputer', SimpleImputer(['Burrito','Neighborhood'])),\n",
    "                     ('notes',NotesVectorizer(),),\n",
    "                     ('drop many values', ManyValueDropper(10)),\n",
    "                   ('fill NaNs', NaNFiller())])"
   ]
  },
  {
   "cell_type": "code",
   "execution_count": 19,
   "metadata": {},
   "outputs": [],
   "source": [
    "X = pipeline.fit_transform(df, df['Great'])"
   ]
  },
  {
   "cell_type": "markdown",
   "metadata": {},
   "source": [
    "## Verify that all values are numeric/boolean and non-NaN"
   ]
  },
  {
   "cell_type": "code",
   "execution_count": 20,
   "metadata": {},
   "outputs": [
    {
     "name": "stdout",
     "output_type": "stream",
     "text": [
      "<class 'pandas.core.frame.DataFrame'>\n",
      "RangeIndex: 421 entries, 0 to 420\n",
      "Data columns (total 76 columns):\n",
      " #   Column         Non-Null Count  Dtype  \n",
      "---  ------         --------------  -----  \n",
      " 0   Burrito        421 non-null    float64\n",
      " 1   Neighborhood   421 non-null    float64\n",
      " 2   Yelp           421 non-null    float64\n",
      " 3   Google         421 non-null    float64\n",
      " 4   Chips          421 non-null    bool   \n",
      " 5   Cost           421 non-null    float64\n",
      " 6   Hunger         421 non-null    float64\n",
      " 7   Length         421 non-null    float64\n",
      " 8   Circum         421 non-null    float64\n",
      " 9   Volume         421 non-null    float64\n",
      " 10  Tortilla       421 non-null    float64\n",
      " 11  Temp           421 non-null    float64\n",
      " 12  Meat           421 non-null    float64\n",
      " 13  Fillings       421 non-null    float64\n",
      " 14  Meat:filling   421 non-null    float64\n",
      " 15  Uniformity     421 non-null    float64\n",
      " 16  Salsa          421 non-null    float64\n",
      " 17  Synergy        421 non-null    float64\n",
      " 18  Wrap           421 non-null    float64\n",
      " 19  Unreliable     421 non-null    bool   \n",
      " 20  NonSD          421 non-null    bool   \n",
      " 21  Beef           421 non-null    bool   \n",
      " 22  Pico           421 non-null    bool   \n",
      " 23  Guac           421 non-null    bool   \n",
      " 24  Cheese         421 non-null    bool   \n",
      " 25  Fries          421 non-null    bool   \n",
      " 26  Sour cream     421 non-null    bool   \n",
      " 27  Pork           421 non-null    bool   \n",
      " 28  Chicken        421 non-null    bool   \n",
      " 29  Shrimp         421 non-null    bool   \n",
      " 30  Fish           421 non-null    bool   \n",
      " 31  Rice           421 non-null    bool   \n",
      " 32  Beans          421 non-null    bool   \n",
      " 33  Lettuce        421 non-null    bool   \n",
      " 34  Tomato         421 non-null    bool   \n",
      " 35  Bell peper     421 non-null    bool   \n",
      " 36  Carrots        421 non-null    bool   \n",
      " 37  Cabbage        421 non-null    bool   \n",
      " 38  Sauce          421 non-null    bool   \n",
      " 39  Salsa.1        421 non-null    bool   \n",
      " 40  Cilantro       421 non-null    bool   \n",
      " 41  Onion          421 non-null    bool   \n",
      " 42  Taquito        421 non-null    bool   \n",
      " 43  Pineapple      421 non-null    bool   \n",
      " 44  Ham            421 non-null    bool   \n",
      " 45  Chile relleno  421 non-null    bool   \n",
      " 46  Nopales        421 non-null    bool   \n",
      " 47  Lobster        421 non-null    bool   \n",
      " 48  Egg            421 non-null    bool   \n",
      " 49  Mushroom       421 non-null    bool   \n",
      " 50  Bacon          421 non-null    bool   \n",
      " 51  Sushi          421 non-null    bool   \n",
      " 52  Avocado        421 non-null    bool   \n",
      " 53  Corn           421 non-null    bool   \n",
      " 54  Zucchini       421 non-null    bool   \n",
      " 55  Great          421 non-null    bool   \n",
      " 56  best           421 non-null    int64  \n",
      " 57  better         421 non-null    int64  \n",
      " 58  burrito        421 non-null    int64  \n",
      " 59  cheese         421 non-null    int64  \n",
      " 60  chips          421 non-null    int64  \n",
      " 61  fries          421 non-null    int64  \n",
      " 62  good           421 non-null    int64  \n",
      " 63  great          421 non-null    int64  \n",
      " 64  guac           421 non-null    int64  \n",
      " 65  like           421 non-null    int64  \n",
      " 66  little         421 non-null    int64  \n",
      " 67  meat           421 non-null    int64  \n",
      " 68  really         421 non-null    int64  \n",
      " 69  salsa          421 non-null    int64  \n",
      " 70  sauce          421 non-null    int64  \n",
      " 71  shrimp         421 non-null    int64  \n",
      " 72  small          421 non-null    int64  \n",
      " 73  sour           421 non-null    int64  \n",
      " 74  time           421 non-null    int64  \n",
      " 75  tortilla       421 non-null    int64  \n",
      "dtypes: bool(38), float64(18), int64(20)\n",
      "memory usage: 140.7 KB\n"
     ]
    }
   ],
   "source": [
    "X.info()"
   ]
  },
  {
   "cell_type": "markdown",
   "metadata": {},
   "source": [
    "## Check the Correlation Matrix"
   ]
  },
  {
   "cell_type": "code",
   "execution_count": 21,
   "metadata": {},
   "outputs": [
    {
     "data": {
      "image/png": "[encoded data removed]",
      "text/plain": [
       "<Figure size 288x288 with 1 Axes>"
      ]
     },
     "metadata": {
      "needs_background": "light"
     },
     "output_type": "display_data"
    }
   ],
   "source": [
    "plt.matshow(X.corr());"
   ]
  },
  {
   "cell_type": "markdown",
   "metadata": {
    "id": "V-r9VFXGNDYi"
   },
   "source": [
    "### Do train/validate/test split"
   ]
  },
  {
   "cell_type": "code",
   "execution_count": 22,
   "metadata": {},
   "outputs": [],
   "source": [
    "years = pd.to_datetime(df['Date']).dt.year"
   ]
  },
  {
   "cell_type": "code",
   "execution_count": 23,
   "metadata": {},
   "outputs": [
    {
     "data": {
      "text/plain": [
       "((298, 64), (298,))"
      ]
     },
     "execution_count": 23,
     "metadata": {},
     "output_type": "execute_result"
    }
   ],
   "source": [
    "df_train = df[years <= 2016]\n",
    "target_train = df_train.pop('Great')\n",
    "df_train.shape, target_train.shape\n"
   ]
  },
  {
   "cell_type": "code",
   "execution_count": 24,
   "metadata": {
    "id": "iCSW2gSTO7L2"
   },
   "outputs": [
    {
     "data": {
      "text/plain": [
       "((85, 64), (85,))"
      ]
     },
     "execution_count": 24,
     "metadata": {},
     "output_type": "execute_result"
    }
   ],
   "source": [
    "df_val = df[years == 2017]\n",
    "target_val = df_val.pop('Great')\n",
    "df_val.shape, target_val.shape"
   ]
  },
  {
   "cell_type": "code",
   "execution_count": 25,
   "metadata": {},
   "outputs": [
    {
     "data": {
      "text/plain": [
       "((38, 64), (38,))"
      ]
     },
     "execution_count": 25,
     "metadata": {},
     "output_type": "execute_result"
    }
   ],
   "source": [
    "df_test = df[years >= 2018]\n",
    "target_test = df_test.pop('Great')\n",
    "df_test.shape, target_test.shape"
   ]
  },
  {
   "cell_type": "markdown",
   "metadata": {
    "id": "yoYlNeRGNJWK"
   },
   "source": [
    "### Determine baseline accuracy for a naïve classification model"
   ]
  },
  {
   "cell_type": "code",
   "execution_count": 26,
   "metadata": {},
   "outputs": [],
   "source": [
    "pipeline.steps.append(('MNB',MNB()))"
   ]
  },
  {
   "cell_type": "code",
   "execution_count": 29,
   "metadata": {
    "id": "Ku0QDc4qssET"
   },
   "outputs": [
    {
     "data": {
      "text/plain": [
       "Pipeline(steps=[('drop', drop columns),\n",
       "                ('convert Xs', convert boolean responses),\n",
       "                ('simple imputer', Imputer), ('notes', notes vectorizer),\n",
       "                ('drop many values', drop messy columns),\n",
       "                ('fill NaNs', fill NAs), ('MNB', MultinomialNB())])"
      ]
     },
     "execution_count": 29,
     "metadata": {},
     "output_type": "execute_result"
    }
   ],
   "source": [
    "pipeline.fit(df_train, target_train)"
   ]
  },
  {
   "cell_type": "code",
   "execution_count": 30,
   "metadata": {},
   "outputs": [
    {
     "data": {
      "text/plain": [
       "0.8557046979865772"
      ]
     },
     "execution_count": 30,
     "metadata": {},
     "output_type": "execute_result"
    }
   ],
   "source": [
    "pipeline.score(df_train, target_train)"
   ]
  },
  {
   "cell_type": "code",
   "execution_count": 31,
   "metadata": {},
   "outputs": [
    {
     "data": {
      "text/plain": [
       "0.7294117647058823"
      ]
     },
     "execution_count": 31,
     "metadata": {},
     "output_type": "execute_result"
    }
   ],
   "source": [
    "pipeline.score(df_val, target_val)"
   ]
  },
  {
   "cell_type": "code",
   "execution_count": 32,
   "metadata": {},
   "outputs": [
    {
     "data": {
      "text/plain": [
       "0.7631578947368421"
      ]
     },
     "execution_count": 32,
     "metadata": {},
     "output_type": "execute_result"
    }
   ],
   "source": [
    "pipeline.score(df_test, target_test)"
   ]
  },
  {
   "cell_type": "markdown",
   "metadata": {
    "id": "3G7N-f7FNTwu"
   },
   "source": [
    "### Create a `scikit-learn` pipeline"
   ]
  },
  {
   "cell_type": "code",
   "execution_count": 33,
   "metadata": {
    "id": "vKpTLm4btK7b"
   },
   "outputs": [
    {
     "data": {
      "text/plain": [
       "Pipeline(steps=[('drop', drop columns),\n",
       "                ('convert Xs', convert boolean responses),\n",
       "                ('simple imputer', Imputer), ('notes', notes vectorizer),\n",
       "                ('drop many values', drop messy columns),\n",
       "                ('fill NaNs', fill NAs), ('min-max scaler', MinMaxScaler()),\n",
       "                ('logistic_regression',\n",
       "                 LogisticRegression(max_iter=1000, penalty='l1',\n",
       "                                    solver='liblinear'))])"
      ]
     },
     "execution_count": 33,
     "metadata": {},
     "output_type": "execute_result"
    }
   ],
   "source": [
    "pipeline.steps.pop()\n",
    "pipeline.steps.append(('min-max scaler',MMS()))\n",
    "pipeline.steps.append(('logistic_regression', LR(penalty = 'l1', max_iter = 1000, solver = 'liblinear')))\n",
    "pipeline"
   ]
  },
  {
   "cell_type": "markdown",
   "metadata": {
    "id": "vpzhx5iJNsGs"
   },
   "source": [
    "### Train model using training data"
   ]
  },
  {
   "cell_type": "code",
   "execution_count": 34,
   "metadata": {
    "id": "rQ1IpBQlNrRb"
   },
   "outputs": [],
   "source": [
    "train_scores, val_scores, coefs = [], [], []\n",
    "\n",
    "x = np.logspace(-3, 2, 30)\n",
    "\n",
    "for C in x:\n",
    "    pipeline.set_params(logistic_regression__C=C)\n",
    "    pipeline.fit(df_train, target_train)\n",
    "    train_scores.append(pipeline.score(df_train, target_train))\n",
    "    val_scores.append(pipeline.score(df_val, target_val))\n",
    "    coefs.append(pipeline.steps[-1][1].coef_.flatten())"
   ]
  },
  {
   "cell_type": "markdown",
   "metadata": {
    "id": "zaBBzwJ5N0mD"
   },
   "source": [
    "### Create visualization of model coefficients"
   ]
  },
  {
   "cell_type": "code",
   "execution_count": 35,
   "metadata": {
    "id": "JWXwGmjXtgu7"
   },
   "outputs": [
    {
     "data": {
      "image/png": "[encoded data removed]",
      "text/plain": [
       "<Figure size 720x720 with 2 Axes>"
      ]
     },
     "metadata": {
      "needs_background": "light"
     },
     "output_type": "display_data"
    }
   ],
   "source": [
    "fig, axs = plt.subplots(2,1, figsize = (10,10))\n",
    "axs[0].plot(x, train_scores, label = 'Train')\n",
    "axs[0].plot(x, val_scores, label = 'Validation')\n",
    "axs[0].legend()\n",
    "best_l1 = x[np.argmax(val_scores)].round(3)\n",
    "axs[0].set_title(f'Accuracy\\n L1 Regularization C = {best_l1}')\n",
    "\n",
    "[ax.axvline(best_l1) for ax in axs]\n",
    "[ax.set_xscale('log') for ax in axs]\n",
    "\n",
    "axs[1].plot(x,coefs)\n",
    "axs[1].set_title('Normalized Coefficients with L1 Regularization');\n"
   ]
  },
  {
   "cell_type": "code",
   "execution_count": 36,
   "metadata": {},
   "outputs": [
    {
     "data": {
      "text/plain": [
       "Pipeline(steps=[('drop', drop columns),\n",
       "                ('convert Xs', convert boolean responses),\n",
       "                ('simple imputer', Imputer), ('notes', notes vectorizer),\n",
       "                ('drop many values', drop messy columns),\n",
       "                ('fill NaNs', fill NAs), ('min-max scaler', MinMaxScaler()),\n",
       "                ('logistic_regression',\n",
       "                 LogisticRegression(C=1.269, max_iter=1000, penalty='l1',\n",
       "                                    solver='liblinear'))])"
      ]
     },
     "execution_count": 36,
     "metadata": {},
     "output_type": "execute_result"
    }
   ],
   "source": [
    "best_model = pipeline\n",
    "best_model.set_params(logistic_regression__C=best_l1)\n",
    "best_model.fit(df_train, target_train)"
   ]
  },
  {
   "cell_type": "markdown",
   "metadata": {},
   "source": [
    "### How many coefficients are non-zero after regularization?"
   ]
  },
  {
   "cell_type": "code",
   "execution_count": 37,
   "metadata": {},
   "outputs": [
    {
     "data": {
      "text/plain": [
       "20"
      ]
     },
     "execution_count": 37,
     "metadata": {},
     "output_type": "execute_result"
    }
   ],
   "source": [
    "(best_model.steps[-1][1].coef_ !=0).sum()"
   ]
  },
  {
   "cell_type": "markdown",
   "metadata": {
    "id": "ACl7NaeROBn3"
   },
   "source": [
    "### Get model's validation accuracy"
   ]
  },
  {
   "cell_type": "code",
   "execution_count": 38,
   "metadata": {
    "id": "PHIMBkQwut7r"
   },
   "outputs": [
    {
     "data": {
      "text/plain": [
       "0.8705882352941177"
      ]
     },
     "execution_count": 38,
     "metadata": {},
     "output_type": "execute_result"
    }
   ],
   "source": [
    "best_model.score(df_val, target_val)"
   ]
  },
  {
   "cell_type": "markdown",
   "metadata": {
    "id": "K3xJZKOaOE1p"
   },
   "source": [
    "### Get your model's test accuracy"
   ]
  },
  {
   "cell_type": "code",
   "execution_count": 39,
   "metadata": {
    "id": "gJ9HEVcIxJt7"
   },
   "outputs": [
    {
     "data": {
      "text/plain": [
       "0.7105263157894737"
      ]
     },
     "execution_count": 39,
     "metadata": {},
     "output_type": "execute_result"
    }
   ],
   "source": [
    "best_model.score(df_test, target_test)"
   ]
  }
 ],
 "metadata": {
  "colab": {
   "collapsed_sections": [],
   "name": "2020-07-13_associate-instructor-technical.ipynb",
   "provenance": []
  },
  "kernelspec": {
   "display_name": "Python 3",
   "language": "python",
   "name": "python3"
  },
  "language_info": {
   "codemirror_mode": {
    "name": "ipython",
    "version": 3
   },
   "file_extension": ".py",
   "mimetype": "text/x-python",
   "name": "python",
   "nbconvert_exporter": "python",
   "pygments_lexer": "ipython3",
   "version": "3.8.5"
  }
 },
 "nbformat": 4,
 "nbformat_minor": 1
}
